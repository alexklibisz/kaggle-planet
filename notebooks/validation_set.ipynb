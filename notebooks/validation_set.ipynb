{
 "cells": [
  {
   "cell_type": "code",
   "execution_count": 67,
   "metadata": {},
   "outputs": [
    {
     "name": "stdout",
     "output_type": "stream",
     "text": [
      "The autoreload extension is already loaded. To reload it, use:\n",
      "  %reload_ext autoreload\n",
      "Done\n"
     ]
    }
   ],
   "source": [
    "# Picking a training and validation set that minimizes KL-divergence\n",
    "# of the tag distributions relative the full dataset.\n",
    "%load_ext autoreload\n",
    "%autoreload 2\n",
    "%matplotlib inline\n",
    "from scipy.stats import entropy\n",
    "from tqdm import tqdm\n",
    "import matplotlib.pyplot as plt\n",
    "import pandas as pd\n",
    "import numpy as np\n",
    "import pickle as pkl\n",
    "\n",
    "import sys; sys.path.append('..')\n",
    "from planet.utils.data_utils import tagstr_to_binary, TAGS\n",
    "\n",
    "print('Done')"
   ]
  },
  {
   "cell_type": "code",
   "execution_count": 72,
   "metadata": {},
   "outputs": [
    {
     "data": {
      "image/png": "[encoded data removed]",
      "text/plain": [
       "<matplotlib.figure.Figure at 0x7fda8ae51f28>"
      ]
     },
     "metadata": {},
     "output_type": "display_data"
    },
    {
     "name": "stdout",
     "output_type": "stream",
     "text": [
      "[ 0.30423182  0.00837471  0.02129499  0.00820178  0.00242101  0.70236419\n",
      "  0.05160701  0.00247042  0.11060056  0.09041725  0.06662714  0.17937696\n",
      "  0.92672744  0.19938734  0.00839942  0.00516317  0.18308259]\n",
      "0.0\n",
      "Done\n"
     ]
    }
   ],
   "source": [
    "# Read data and convert text labels to vectors.\n",
    "df = pd.read_csv('../data/train_v2.csv')\n",
    "tags_binary = np.vstack([tagstr_to_binary(ts) for ts in df['tags'].values])\n",
    "\n",
    "# Compute, plot normalized distribution.\n",
    "dist = np.sum(tags_binary, axis=0)\n",
    "plt.figure(figsize=(8,5))\n",
    "plt.bar(np.arange(len(dist)), dist)\n",
    "plt.xticks(np.arange(len(dist)), TAGS, rotation='vertical')\n",
    "plt.title('%d total examples.' % df.shape[0])\n",
    "plt.show()\n",
    "\n",
    "dist_norm =  dist / tags_binary.shape[0]\n",
    "print(dist_norm)\n",
    "print(entropy(dist_norm, dist_norm))\n",
    "print('Done')"
   ]
  },
  {
   "cell_type": "code",
   "execution_count": 71,
   "metadata": {},
   "outputs": [
    {
     "name": "stderr",
     "output_type": "stream",
     "text": [
      "100%|██████████| 10000/10000 [01:50<00:00, 89.97it/s]"
     ]
    },
    {
     "name": "stdout",
     "output_type": "stream",
     "text": [
      "Done: 0.0000400\n"
     ]
    },
    {
     "name": "stderr",
     "output_type": "stream",
     "text": [
      "\n"
     ]
    }
   ],
   "source": [
    "# Randomly sample train/validation sets. \n",
    "# Keep the one that minimizes KL-divergence against full distribution.\n",
    "\n",
    "rng = np.random\n",
    "rng.seed(333)\n",
    "\n",
    "prop_trn, prop_val = 0.8, 0.2\n",
    "min_diff = 1e10\n",
    "min_idxs = None\n",
    "min_dists = None\n",
    "bp = int(df.shape[0]*prop_trn)\n",
    "idxs = np.arange(df.shape[0])\n",
    "for _ in tqdm(range(10000)):\n",
    "    rng.shuffle(idxs)\n",
    "    idxs_trn, idxs_val = idxs[:bp], idxs[bp:]\n",
    "    assert set(idxs_trn).intersection(idxs_val) == set([])\n",
    "    \n",
    "    dist_trn = np.sum(tags_binary[idxs_trn], axis=0) / len(idxs_trn)\n",
    "    dist_val = np.sum(tags_binary[idxs_val], axis=0) / len(idxs_val)\n",
    "    \n",
    "    diff = abs(entropy(dist_norm, dist_trn)) + abs(entropy(dist_norm, dist_val))\n",
    "    if diff < min_diff:\n",
    "        min_diff = diff\n",
    "        min_idxs = (idxs_trn, idxs_val)\n",
    "        min_dists = (dist_trn, dist_val) \n",
    "    \n",
    "print('Done: %.7lf' % min_diff)"
   ]
  },
  {
   "cell_type": "code",
   "execution_count": 69,
   "metadata": {},
   "outputs": [
    {
     "data": {
      "image/png": "[encoded data removed]",
      "text/plain": [
       "<matplotlib.figure.Figure at 0x7fda8a3e76d8>"
      ]
     },
     "metadata": {},
     "output_type": "display_data"
    },
    {
     "name": "stdout",
     "output_type": "stream",
     "text": [
      "[ -2.15218005e-03   4.32573531e-04  -4.00777704e-04  -2.46783831e-04\n",
      "  -6.16845148e-05  -1.49141348e-03   7.42704902e-04   7.62855736e-08\n",
      "  -1.47880729e-03  -3.70276443e-03  -2.44979677e-04   1.11720604e-03\n",
      "   4.30052293e-04  -1.97013978e-03   1.54657558e-04  -3.07202005e-05\n",
      "  -5.05860700e-03]\n"
     ]
    }
   ],
   "source": [
    "dist_trn, dist_val = min_dists\n",
    "idxs_trn, idxs_val = min_idxs\n",
    "\n",
    "plt.bar(range(len(dist_trn)), dist_trn, color='blue', alpha=0.4)\n",
    "plt.bar(range(len(dist_val)), dist_val, color='orange', alpha=0.4)\n",
    "plt.show()\n",
    "\n",
    "print(dist_trn - dist_val)\n",
    "\n",
    "# Plot and save to disk..\n",
    "pkl.dump(idxs_trn, open('../data/idxs_trn.pkl', 'wb'))\n",
    "pkl.dump(idxs_val, open('../data/idxs_val.pkl', 'wb'))"
   ]
  }
 ],
 "metadata": {
  "kernelspec": {
   "display_name": "Python 3",
   "language": "python",
   "name": "python3"
  },
  "language_info": {
   "codemirror_mode": {
    "name": "ipython",
    "version": 3
   },
   "file_extension": ".py",
   "mimetype": "text/x-python",
   "name": "python",
   "nbconvert_exporter": "python",
   "pygments_lexer": "ipython3",
   "version": "3.5.2"
  }
 },
 "nbformat": 4,
 "nbformat_minor": 2
}
