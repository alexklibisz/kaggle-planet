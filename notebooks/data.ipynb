{
 "cells": [
  {
   "cell_type": "code",
   "execution_count": 6,
   "metadata": {
    "collapsed": false
   },
   "outputs": [
    {
     "name": "stdout",
     "output_type": "stream",
     "text": [
      "Ready\n"
     ]
    }
   ],
   "source": [
    "import tifffile as tif\n",
    "from glob import glob\n",
    "import matplotlib.pyplot as plt\n",
    "\n",
    "print('Ready')"
   ]
  },
  {
   "cell_type": "code",
   "execution_count": 5,
   "metadata": {
    "collapsed": false
   },
   "outputs": [
    {
     "name": "stdout",
     "output_type": "stream",
     "text": [
      "['../data/train-tif-sample/train_0.tif', '../data/train-tif-sample/train_1.tif', '../data/train-tif-sample/train_10.tif', '../data/train-tif-sample/train_100.tif', '../data/train-tif-sample/train_1000.tif', '../data/train-tif-sample/train_10000.tif', '../data/train-tif-sample/train_10001.tif', '../data/train-tif-sample/train_10002.tif', '../data/train-tif-sample/train_10003.tif', '../data/train-tif-sample/train_10004.tif', '../data/train-tif-sample/train_10005.tif', '../data/train-tif-sample/train_10006.tif', '../data/train-tif-sample/train_10007.tif', '../data/train-tif-sample/train_10008.tif', '../data/train-tif-sample/train_10009.tif', '../data/train-tif-sample/train_1001.tif', '../data/train-tif-sample/train_10010.tif', '../data/train-tif-sample/train_10011.tif', '../data/train-tif-sample/train_10012.tif', '../data/train-tif-sample/train_10013.tif', '../data/train-tif-sample/train_10014.tif', '../data/train-tif-sample/train_10015.tif', '../data/train-tif-sample/train_10016.tif', '../data/train-tif-sample/train_10017.tif', '../data/train-tif-sample/train_10018.tif', '../data/train-tif-sample/train_10019.tif', '../data/train-tif-sample/train_1002.tif', '../data/train-tif-sample/train_10020.tif', '../data/train-tif-sample/train_10021.tif', '../data/train-tif-sample/train_10022.tif', '../data/train-tif-sample/train_10023.tif', '../data/train-tif-sample/train_10024.tif', '../data/train-tif-sample/train_10025.tif', '../data/train-tif-sample/train_10026.tif', '../data/train-tif-sample/train_10027.tif', '../data/train-tif-sample/train_10028.tif', '../data/train-tif-sample/train_10029.tif', '../data/train-tif-sample/train_1003.tif', '../data/train-tif-sample/train_10030.tif', '../data/train-tif-sample/train_10031.tif', '../data/train-tif-sample/train_10032.tif', '../data/train-tif-sample/train_10033.tif', '../data/train-tif-sample/train_10034.tif', '../data/train-tif-sample/train_10035.tif', '../data/train-tif-sample/train_10036.tif', '../data/train-tif-sample/train_10037.tif', '../data/train-tif-sample/train_10038.tif', '../data/train-tif-sample/train_10039.tif', '../data/train-tif-sample/train_1004.tif', '../data/train-tif-sample/train_10040.tif', '../data/train-tif-sample/train_10041.tif', '../data/train-tif-sample/train_10042.tif', '../data/train-tif-sample/train_10043.tif', '../data/train-tif-sample/train_10044.tif', '../data/train-tif-sample/train_10045.tif', '../data/train-tif-sample/train_10046.tif', '../data/train-tif-sample/train_10047.tif', '../data/train-tif-sample/train_10048.tif', '../data/train-tif-sample/train_10049.tif', '../data/train-tif-sample/train_1005.tif', '../data/train-tif-sample/train_10050.tif', '../data/train-tif-sample/train_10051.tif', '../data/train-tif-sample/train_10052.tif', '../data/train-tif-sample/train_10053.tif', '../data/train-tif-sample/train_10054.tif', '../data/train-tif-sample/train_10055.tif', '../data/train-tif-sample/train_10056.tif', '../data/train-tif-sample/train_10057.tif', '../data/train-tif-sample/train_10058.tif', '../data/train-tif-sample/train_10059.tif', '../data/train-tif-sample/train_1006.tif', '../data/train-tif-sample/train_10060.tif', '../data/train-tif-sample/train_10061.tif', '../data/train-tif-sample/train_10062.tif', '../data/train-tif-sample/train_10063.tif', '../data/train-tif-sample/train_10064.tif', '../data/train-tif-sample/train_10065.tif', '../data/train-tif-sample/train_10066.tif', '../data/train-tif-sample/train_10067.tif', '../data/train-tif-sample/train_10068.tif', '../data/train-tif-sample/train_10069.tif', '../data/train-tif-sample/train_1007.tif', '../data/train-tif-sample/train_10070.tif', '../data/train-tif-sample/train_10071.tif', '../data/train-tif-sample/train_10072.tif', '../data/train-tif-sample/train_10073.tif', '../data/train-tif-sample/train_10074.tif', '../data/train-tif-sample/train_10075.tif', '../data/train-tif-sample/train_10076.tif', '../data/train-tif-sample/train_10077.tif', '../data/train-tif-sample/train_10078.tif', '../data/train-tif-sample/train_10079.tif', '../data/train-tif-sample/train_1008.tif', '../data/train-tif-sample/train_10080.tif', '../data/train-tif-sample/train_10081.tif', '../data/train-tif-sample/train_10082.tif', '../data/train-tif-sample/train_10083.tif', '../data/train-tif-sample/train_10084.tif', '../data/train-tif-sample/train_10085.tif', '../data/train-tif-sample/train_10087.tif']\n"
     ]
    }
   ],
   "source": [
    "imgs = sorted(glob('../data/train-tif-sample/*.tif'))\n"
   ]
  }
 ],
 "metadata": {
  "kernelspec": {
   "display_name": "Python 3",
   "language": "python",
   "name": "python3"
  },
  "language_info": {
   "codemirror_mode": {
    "name": "ipython",
    "version": 3
   },
   "file_extension": ".py",
   "mimetype": "text/x-python",
   "name": "python",
   "nbconvert_exporter": "python",
   "pygments_lexer": "ipython3",
   "version": "3.5.2"
  }
 },
 "nbformat": 4,
 "nbformat_minor": 2
}
