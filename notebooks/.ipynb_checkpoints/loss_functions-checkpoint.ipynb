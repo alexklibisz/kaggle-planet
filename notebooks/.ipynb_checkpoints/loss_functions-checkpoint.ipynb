{
 "cells": [
  {
   "cell_type": "code",
   "execution_count": 1,
   "metadata": {
    "collapsed": false
   },
   "outputs": [
    {
     "name": "stdout",
     "output_type": "stream",
     "text": [
      "Ready\n"
     ]
    }
   ],
   "source": [
    "# Plotting some loss functions.\n",
    "%matplotlib inline\n",
    "import numpy as np\n",
    "import matplotlib.pyplot as plt\n",
    "np.random.seed(0)\n",
    "print('Ready')"
   ]
  },
  {
   "cell_type": "code",
   "execution_count": 2,
   "metadata": {
    "collapsed": false
   },
   "outputs": [
    {
     "data": {
      "image/png": "[encoded data removed]",
      "text/plain": [
       "<matplotlib.figure.Figure at 0x7f629c36f400>"
      ]
     },
     "metadata": {},
     "output_type": "display_data"
    }
   ],
   "source": [
    "# Define a random ground truth image.\n",
    "yt = np.random.random((100,100)).round()\n",
    "plt.imshow(yt)\n",
    "plt.show()"
   ]
  },
  {
   "cell_type": "code",
   "execution_count": null,
   "metadata": {
    "collapsed": false
   },
   "outputs": [
    {
     "name": "stdout",
     "output_type": "stream",
     "text": [
      "Ready\n"
     ]
    }
   ],
   "source": [
    "# Define the cost functions.\n",
    "def log_loss(yt, yp):\n",
    "    '''https://www.kaggle.com/wiki/LogarithmicLoss'''\n",
    "    return (-yt * np.log(yp)) - ((1 - yt) * np.log(1 - yp))\n",
    "\n",
    "def dice_squared_loss(yt, yp):\n",
    "    nmr = 2 * K.sum(yt * yp)\n",
    "    dnm = K.sum(yt**2) + K.sum(yp**2) + K.epsilon()\n",
    "    return nmr / dnm\n",
    "\n",
    "funcs = [(log_loss, 'r'), (dice_squared_loss, 'b')]\n",
    "\n",
    "print('Ready')"
   ]
  },
  {
   "cell_type": "code",
   "execution_count": null,
   "metadata": {
    "collapsed": false
   },
   "outputs": [
    {
     "name": "stderr",
     "output_type": "stream",
     "text": [
      "/home/ubuntu/.envs/py3ml/lib/python3.5/site-packages/ipykernel/__main__.py:4: RuntimeWarning: divide by zero encountered in log\n",
      "/home/ubuntu/.envs/py3ml/lib/python3.5/site-packages/ipykernel/__main__.py:4: RuntimeWarning: invalid value encountered in multiply\n"
     ]
    },
    {
     "name": "stdout",
     "output_type": "stream",
     "text": [
      "> <ipython-input-4-1f9f78103471>(15)<module>()\n",
      "-> if n == 0:\n"
     ]
    }
   ],
   "source": [
    "# Generate random windows and plot the cost function value\n",
    "# relative the false positives and false negatives.\n",
    "\n",
    "fig, _ = plt.subplots(1, 2)\n",
    "fig.axes[0].set_xlabel('False positives')\n",
    "fig.axes[1].set_xlabel('False negatives')\n",
    "\n",
    "for n in range(10):\n",
    "    yp = (np.random.random((100,100)) + np.random.rand()).round()\n",
    "    for (func, c) in funcs:\n",
    "        loss = func(yt, yp)\n",
    "        fp = np.sum(np.clip(yp - yt, 0, 1))\n",
    "        fn = np.sum(np.clip(yt - yp, 0, 1))\n",
    "        if n == 0:\n",
    "            fig.axes[0].scatter(fp, loss, color=c, label=func.__name__)\n",
    "            fig.axes[0].legend()\n",
    "            fig.axes[1].scatter(fn, loss, color=c, label=func.__name__)\n",
    "            fig.axes[1].legend()\n",
    "        else:\n",
    "            fig.axes[0].scatter(fp, loss, color=c)\n",
    "            fig.axes[1].scatter(fn, loss, color=c)\n",
    "\n",
    "plt.show()"
   ]
  }
 ],
 "metadata": {
  "kernelspec": {
   "display_name": "Python 3",
   "language": "python",
   "name": "python3"
  },
  "language_info": {
   "codemirror_mode": {
    "name": "ipython",
    "version": 3
   },
   "file_extension": ".py",
   "mimetype": "text/x-python",
   "name": "python",
   "nbconvert_exporter": "python",
   "pygments_lexer": "ipython3",
   "version": "3.5.2"
  }
 },
 "nbformat": 4,
 "nbformat_minor": 2
}
